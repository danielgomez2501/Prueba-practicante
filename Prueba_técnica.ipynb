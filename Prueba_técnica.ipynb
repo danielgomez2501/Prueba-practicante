{
  "nbformat": 4,
  "nbformat_minor": 0,
  "metadata": {
    "colab": {
      "provenance": [],
      "authorship_tag": "ABX9TyNqdVslAiWbziQhMe/FWad+",
      "include_colab_link": true
    },
    "kernelspec": {
      "name": "python3",
      "display_name": "Python 3"
    },
    "language_info": {
      "name": "python"
    }
  },
  "cells": [
    {
      "cell_type": "markdown",
      "metadata": {
        "id": "view-in-github",
        "colab_type": "text"
      },
      "source": [
        "<a href=\"https://colab.research.google.com/github/danielgomez2501/Prueba-practicante/blob/main/Prueba_t%C3%A9cnica.ipynb\" target=\"_parent\"><img src=\"https://colab.research.google.com/assets/colab-badge.svg\" alt=\"Open In Colab\"/></a>"
      ]
    },
    {
      "cell_type": "markdown",
      "source": [
        "# **Prueba técnica**\n",
        "# Segmentación semantica de video\n",
        "\n",
        "**Desarrollado por:**</br>\n",
        "Daniel Alejandro Gómez G.\n"
      ],
      "metadata": {
        "id": "lTFDlZ9cf4Qo"
      }
    },
    {
      "cell_type": "markdown",
      "source": [
        "# Preparación del entorno"
      ],
      "metadata": {
        "id": "sd88akfKiTQ5"
      }
    },
    {
      "cell_type": "markdown",
      "source": [
        "# Preprocesamiento"
      ],
      "metadata": {
        "id": "UuSwmbroilkS"
      }
    },
    {
      "cell_type": "markdown",
      "source": [
        "# Sistema de segmentación"
      ],
      "metadata": {
        "id": "XwYet5XMizNp"
      }
    },
    {
      "cell_type": "markdown",
      "source": [
        "## Modelo de red"
      ],
      "metadata": {
        "id": "_kyD_3uYjBAG"
      }
    },
    {
      "cell_type": "markdown",
      "source": [
        "# Evaluación del sistema"
      ],
      "metadata": {
        "id": "WE2y2H7YjaPQ"
      }
    }
  ]
}